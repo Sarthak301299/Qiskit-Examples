{
 "cells": [
  {
   "cell_type": "markdown",
   "metadata": {},
   "source": [
    "# Grover's Algorithm using 8 qubits"
   ]
  },
  {
   "cell_type": "markdown",
   "metadata": {},
   "source": [
    "Step 1: Define the Oracle. I use a random number generator to create the oracle so I never know who the winners actually are. First we make the classical Oracle that returns True if winner is detected. Then we define the unitary matrix used that acts as the quantum oracle. It will flip the phase of only the winners. Imagine this oracle being defined once in a server."
   ]
  },
  {
   "cell_type": "code",
   "execution_count": 1,
   "metadata": {},
   "outputs": [],
   "source": [
    "import numpy as np\n",
    "import matplotlib.pyplot as plt\n",
    "from qiskit import QuantumCircuit\n",
    "from qiskit.circuit.library import UnitaryGate\n",
    "from qiskit_aer.primitives import Sampler\n",
    "import random\n",
    "from math import sqrt,ceil,floor\n",
    "from qiskit.visualization import plot_histogram\n",
    "from qiskit_aer import AerSimulator\n",
    "from qiskit.result import QuasiDistribution\n",
    "\n",
    "aer_sim = AerSimulator()\n",
    "sampler = Sampler()\n",
    "\n",
    "num_qubits = 8\n",
    "num_clbits = 8\n",
    "\n",
    "#We can have between 1 to 3 winners\n",
    "num_winners = random.randint(1,3)\n",
    "winner_list = []\n",
    "for i in range(num_winners):\n",
    "    winner_list.append(random.randint(0,(2**num_qubits) - 1))\n",
    "\n",
    "#Now we have our winners ready.\n",
    "#We will not print them until the end when we verify our outputs.\n",
    "\n",
    "#Let's define the classical oracle.\n",
    "def Classical_Oracle(input):\n",
    "    if input in winner_list:\n",
    "        return True\n",
    "    else:\n",
    "        return False\n",
    "\n",
    "#Now create the quantum oracle using it.\n",
    "#Note that this is happening fully inside the server process as a one time startup\n",
    "#Technically, we would not be calling the classical oracle\n",
    "#but rather defining the quantum oracle just like how we defined the classical one.\n",
    "#Note that on a circuit gate level, the function defined above is also\n",
    "#a construction based on known answers.\n",
    "\n",
    "#Let's define the unitary matrix representing the quantum oracle.\n",
    "outputs = np.fromiter(((-1)**(int(Classical_Oracle(x))) for x in range(2**num_qubits)), dtype=int)\n",
    "U = np.diag(outputs)\n",
    "#This unitary matrix flips the phase of the winners.\n",
    "\n",
    "def Quantum_Oracle(qc):\n",
    "    gate = UnitaryGate(U,label=\"QuantumOracle\")\n",
    "    qc.append(gate,qc.qubits)"
   ]
  },
  {
   "cell_type": "markdown",
   "metadata": {},
   "source": [
    "Step 2: Define the Grover transformation using oracle and reflection along the diffuser. Everything from here on would be expected to be on the client and each call to oracle would be like pinging the server."
   ]
  },
  {
   "cell_type": "code",
   "execution_count": 3,
   "metadata": {},
   "outputs": [],
   "source": [
    "def mcz(qc):\n",
    "    qc.h(num_qubits-1)\n",
    "    qc.mcx(list(range(num_qubits-1)),num_qubits-1)\n",
    "    qc.h(num_qubits-1)\n",
    "\n",
    "\n",
    "def diffuser(qc):\n",
    "    qc.h(qc.qubits)\n",
    "    qc.x(qc.qubits)\n",
    "    mcz(qc)\n",
    "    qc.x(qc.qubits)\n",
    "    qc.h(qc.qubits)"
   ]
  },
  {
   "cell_type": "markdown",
   "metadata": {},
   "source": [
    "Step 3: Now define the full circuit as iterations."
   ]
  },
  {
   "cell_type": "code",
   "execution_count": 4,
   "metadata": {},
   "outputs": [],
   "source": [
    "def GroverLayer(qc,num_layers):\n",
    "    for i in range(num_layers):\n",
    "        Quantum_Oracle(qc)\n",
    "        diffuser(qc)"
   ]
  },
  {
   "cell_type": "markdown",
   "metadata": {},
   "source": [
    "Step 4: Now run with incrementally increasing layers"
   ]
  },
  {
   "cell_type": "code",
   "execution_count": 5,
   "metadata": {},
   "outputs": [
    {
     "name": "stdout",
     "output_type": "stream",
     "text": [
      "Found matching element  57  oracle calls  4\n",
      "Winners  [57, 82]\n",
      "Found matching element  82  oracle calls  2\n",
      "Winners  [57, 82]\n",
      "Found matching element  82  oracle calls  2\n",
      "Winners  [57, 82]\n",
      "Found matching element  57  oracle calls  4\n",
      "Winners  [57, 82]\n",
      "Found matching element  82  oracle calls  6\n",
      "Winners  [57, 82]\n",
      "Found matching element  57  oracle calls  6\n",
      "Winners  [57, 82]\n",
      "Found matching element  82  oracle calls  5\n",
      "Winners  [57, 82]\n",
      "Found matching element  57  oracle calls  6\n",
      "Winners  [57, 82]\n",
      "Found matching element  57  oracle calls  8\n",
      "Winners  [57, 82]\n",
      "Found matching element  82  oracle calls  1\n",
      "Winners  [57, 82]\n",
      "Average Oracle calls over 10 iterations  4.4\n"
     ]
    }
   ],
   "source": [
    "total_oracle_calls = 0\n",
    "for iters in range(10):\n",
    "    max_num_layers = 1\n",
    "    num_tries = 0\n",
    "    oracle_calls = 0\n",
    "    while num_tries < sqrt(2**num_qubits):\n",
    "        num_layers = random.randint(1,max_num_layers)\n",
    "        qc = QuantumCircuit(num_qubits,num_clbits)\n",
    "        qc.h(qc.qubits)\n",
    "        GroverLayer(qc,num_layers)\n",
    "        qc.measure(qc.qubits,qc.clbits)\n",
    "        job = sampler.run(qc,shots=1)\n",
    "        result = job.result()\n",
    "        qdists = result.quasi_dists[0]\n",
    "        output = list(qdists.keys())[0]\n",
    "        if Classical_Oracle(output):\n",
    "            oracle_calls += 1\n",
    "            print('Found matching element ',output,' oracle calls ',oracle_calls)\n",
    "            print('Winners ',winner_list)\n",
    "            break\n",
    "        else:\n",
    "            oracle_calls += 1\n",
    "        num_tries += 1\n",
    "        max_num_layers = ceil(5*max_num_layers/4)\n",
    "    if num_tries >= sqrt(2**num_qubits):\n",
    "        print('No Matching result exist oracle calls ',oracle_calls)\n",
    "        print('Winners ',winner_list)\n",
    "    total_oracle_calls += oracle_calls\n",
    "print('Average Oracle calls over 10 iterations ',total_oracle_calls/10)"
   ]
  },
  {
   "cell_type": "code",
   "execution_count": 6,
   "metadata": {},
   "outputs": [
    {
     "name": "stdout",
     "output_type": "stream",
     "text": [
      "Found matching element  57  oracle calls  57\n",
      "Winners  [57, 82]\n",
      "Found matching element  57  oracle calls  57\n",
      "Winners  [57, 82]\n",
      "Found matching element  57  oracle calls  57\n",
      "Winners  [57, 82]\n",
      "Found matching element  57  oracle calls  57\n",
      "Winners  [57, 82]\n",
      "Found matching element  57  oracle calls  57\n",
      "Winners  [57, 82]\n",
      "Found matching element  57  oracle calls  57\n",
      "Winners  [57, 82]\n",
      "Found matching element  57  oracle calls  57\n",
      "Winners  [57, 82]\n",
      "Found matching element  57  oracle calls  57\n",
      "Winners  [57, 82]\n",
      "Found matching element  57  oracle calls  57\n",
      "Winners  [57, 82]\n",
      "Found matching element  57  oracle calls  57\n",
      "Winners  [57, 82]\n",
      "Average Oracle calls over 10 iterations  57.0\n"
     ]
    }
   ],
   "source": [
    "#Classical Comparison case\n",
    "total_oracle_calls = 0\n",
    "for iters in range(10):\n",
    "    oracle_calls = 0\n",
    "    for output in range(1,2**num_clbits):\n",
    "        if Classical_Oracle(output):\n",
    "            oracle_calls += 1\n",
    "            print('Found matching element ',output,' oracle calls ',oracle_calls)\n",
    "            print('Winners ',winner_list)\n",
    "            break\n",
    "        else:\n",
    "            oracle_calls += 1\n",
    "    total_oracle_calls += oracle_calls\n",
    "print('Average Oracle calls over 10 iterations ',total_oracle_calls/10)"
   ]
  },
  {
   "cell_type": "markdown",
   "metadata": {},
   "source": [
    "Step 5: We can see that when we use the values generated by the quantum circuit and verify them using the classical circuit, we get to one of the winners in the winner list in much lower number of oracle calls as compared to when we use the blind approach of testing every input possible one by one. Now let's try running the quantum circuit on real hardware. To avoid accessing IBM hardware repeatedly, we will use multiple shots. We will use 4 qubits here as Grover cicuits tend to be very deep and can take a lot of time to transpile for high number of qubits. First let's redefine the problem with 4 bits."
   ]
  },
  {
   "cell_type": "code",
   "execution_count": 34,
   "metadata": {},
   "outputs": [
    {
     "name": "stdout",
     "output_type": "stream",
     "text": [
      "Found matching element  8  oracle calls  8\n",
      "Winners  [8, 15, 9]\n",
      "Found matching element  8  oracle calls  8\n",
      "Winners  [8, 15, 9]\n",
      "Found matching element  8  oracle calls  8\n",
      "Winners  [8, 15, 9]\n",
      "Found matching element  8  oracle calls  8\n",
      "Winners  [8, 15, 9]\n",
      "Found matching element  8  oracle calls  8\n",
      "Winners  [8, 15, 9]\n",
      "Found matching element  8  oracle calls  8\n",
      "Winners  [8, 15, 9]\n",
      "Found matching element  8  oracle calls  8\n",
      "Winners  [8, 15, 9]\n",
      "Found matching element  8  oracle calls  8\n",
      "Winners  [8, 15, 9]\n",
      "Found matching element  8  oracle calls  8\n",
      "Winners  [8, 15, 9]\n",
      "Found matching element  8  oracle calls  8\n",
      "Winners  [8, 15, 9]\n",
      "Average Oracle calls over 10 iterations  8.0\n"
     ]
    }
   ],
   "source": [
    "num_qubits = 4\n",
    "num_clbits = 4\n",
    "\n",
    "#We can have between 1 to 3 winners\n",
    "num_winners = random.randint(1,3)\n",
    "winner_list = []\n",
    "for i in range(num_winners):\n",
    "    winner_list.append(random.randint(0,(2**num_qubits) - 1))\n",
    "\n",
    "#Let's define the classical oracle.\n",
    "def Classical_Oracle(input):\n",
    "    if input in winner_list:\n",
    "        return True\n",
    "    else:\n",
    "        return False\n",
    "\n",
    "#Let's define the unitary matrix representing the quantum oracle.\n",
    "outputs = np.fromiter(((-1)**(int(Classical_Oracle(x))) for x in range(2**num_qubits)), dtype=int)\n",
    "U = np.diag(outputs)\n",
    "\n",
    "def Quantum_Oracle(qc):\n",
    "    gate = UnitaryGate(U,label=\"QuantumOracle\")\n",
    "    qc.append(gate,qc.qubits)\n",
    "\n",
    "#Classical Comparison case\n",
    "total_oracle_calls = 0\n",
    "for iters in range(10):\n",
    "    oracle_calls = 0\n",
    "    for output in range(1,2**num_clbits):\n",
    "        if Classical_Oracle(output):\n",
    "            oracle_calls += 1\n",
    "            print('Found matching element ',output,' oracle calls ',oracle_calls)\n",
    "            print('Winners ',winner_list)\n",
    "            break\n",
    "        else:\n",
    "            oracle_calls += 1\n",
    "    total_oracle_calls += oracle_calls\n",
    "print('Average Oracle calls over 10 iterations ',total_oracle_calls/10)"
   ]
  },
  {
   "cell_type": "code",
   "execution_count": 11,
   "metadata": {},
   "outputs": [],
   "source": [
    "from qiskit_ibm_runtime import Session, SamplerV2 as Sampler, QiskitRuntimeService\n",
    "service = QiskitRuntimeService(name='simaccount',filename=r'C:\\Users\\sarth\\Documents\\Qiskit\\Accounts\\simaccount.json')"
   ]
  },
  {
   "cell_type": "code",
   "execution_count": 12,
   "metadata": {},
   "outputs": [
    {
     "name": "stdout",
     "output_type": "stream",
     "text": [
      "[<IBMBackend('ibm_brisbane')>, <IBMBackend('ibm_kyiv')>, <IBMBackend('ibm_sherbrooke')>]\n",
      "<IBMBackend('ibm_kyiv')>\n",
      "1.1.1\n"
     ]
    }
   ],
   "source": [
    "#print(service.active_account())\n",
    "print(service.backends())\n",
    "#print(service.saved_accounts(filename=r'C:\\Users\\sarth\\Documents\\Qiskit\\Accounts\\simaccount.json'))\n",
    "print(service.least_busy(operational=True, simulator=False, min_num_qubits=num_qubits))\n",
    "import qiskit\n",
    "print(qiskit.__version__)"
   ]
  },
  {
   "cell_type": "code",
   "execution_count": 39,
   "metadata": {},
   "outputs": [
    {
     "name": "stdout",
     "output_type": "stream",
     "text": [
      "     ┌───┐┌────────────────┐┌───┐┌───┐          ┌───┐┌───┐     ┌─┐         \n",
      "q_0: ┤ H ├┤0               ├┤ H ├┤ X ├───────■──┤ X ├┤ H ├─────┤M├─────────\n",
      "     ├───┤│                │├───┤├───┤       │  ├───┤├───┤     └╥┘┌─┐      \n",
      "q_1: ┤ H ├┤1               ├┤ H ├┤ X ├───────■──┤ X ├┤ H ├──────╫─┤M├──────\n",
      "     ├───┤│  QuantumOracle │├───┤├───┤       │  ├───┤├───┤      ║ └╥┘┌─┐   \n",
      "q_2: ┤ H ├┤2               ├┤ H ├┤ X ├───────■──┤ X ├┤ H ├──────╫──╫─┤M├───\n",
      "     ├───┤│                │├───┤├───┤┌───┐┌─┴─┐├───┤├───┤┌───┐ ║  ║ └╥┘┌─┐\n",
      "q_3: ┤ H ├┤3               ├┤ H ├┤ X ├┤ H ├┤ X ├┤ H ├┤ X ├┤ H ├─╫──╫──╫─┤M├\n",
      "     └───┘└────────────────┘└───┘└───┘└───┘└───┘└───┘└───┘└───┘ ║  ║  ║ └╥┘\n",
      "c: 4/═══════════════════════════════════════════════════════════╩══╩══╩══╩═\n",
      "                                                                0  1  2  3 \n",
      "1  out of  4  transpiled\n",
      "     ┌───┐┌────────────────┐┌───┐┌───┐          ┌───┐┌───┐     »\n",
      "q_0: ┤ H ├┤0               ├┤ H ├┤ X ├───────■──┤ X ├┤ H ├─────»\n",
      "     ├───┤│                │├───┤├───┤       │  ├───┤├───┤     »\n",
      "q_1: ┤ H ├┤1               ├┤ H ├┤ X ├───────■──┤ X ├┤ H ├─────»\n",
      "     ├───┤│  QuantumOracle │├───┤├───┤       │  ├───┤├───┤     »\n",
      "q_2: ┤ H ├┤2               ├┤ H ├┤ X ├───────■──┤ X ├┤ H ├─────»\n",
      "     ├───┤│                │├───┤├───┤┌───┐┌─┴─┐├───┤├───┤┌───┐»\n",
      "q_3: ┤ H ├┤3               ├┤ H ├┤ X ├┤ H ├┤ X ├┤ H ├┤ X ├┤ H ├»\n",
      "     └───┘└────────────────┘└───┘└───┘└───┘└───┘└───┘└───┘└───┘»\n",
      "c: 4/══════════════════════════════════════════════════════════»\n",
      "                                                               »\n",
      "«     ┌────────────────┐┌───┐┌───┐          ┌───┐┌───┐     ┌─┐         \n",
      "«q_0: ┤0               ├┤ H ├┤ X ├───────■──┤ X ├┤ H ├─────┤M├─────────\n",
      "«     │                │├───┤├───┤       │  ├───┤├───┤     └╥┘┌─┐      \n",
      "«q_1: ┤1               ├┤ H ├┤ X ├───────■──┤ X ├┤ H ├──────╫─┤M├──────\n",
      "«     │  QuantumOracle │├───┤├───┤       │  ├───┤├───┤      ║ └╥┘┌─┐   \n",
      "«q_2: ┤2               ├┤ H ├┤ X ├───────■──┤ X ├┤ H ├──────╫──╫─┤M├───\n",
      "«     │                │├───┤├───┤┌───┐┌─┴─┐├───┤├───┤┌───┐ ║  ║ └╥┘┌─┐\n",
      "«q_3: ┤3               ├┤ H ├┤ X ├┤ H ├┤ X ├┤ H ├┤ X ├┤ H ├─╫──╫──╫─┤M├\n",
      "«     └────────────────┘└───┘└───┘└───┘└───┘└───┘└───┘└───┘ ║  ║  ║ └╥┘\n",
      "«c: 4/══════════════════════════════════════════════════════╩══╩══╩══╩═\n",
      "«                                                           0  1  2  3 \n",
      "2  out of  4  transpiled\n",
      "     ┌───┐┌────────────────┐┌───┐┌───┐          ┌───┐┌───┐     »\n",
      "q_0: ┤ H ├┤0               ├┤ H ├┤ X ├───────■──┤ X ├┤ H ├─────»\n",
      "     ├───┤│                │├───┤├───┤       │  ├───┤├───┤     »\n",
      "q_1: ┤ H ├┤1               ├┤ H ├┤ X ├───────■──┤ X ├┤ H ├─────»\n",
      "     ├───┤│  QuantumOracle │├───┤├───┤       │  ├───┤├───┤     »\n",
      "q_2: ┤ H ├┤2               ├┤ H ├┤ X ├───────■──┤ X ├┤ H ├─────»\n",
      "     ├───┤│                │├───┤├───┤┌───┐┌─┴─┐├───┤├───┤┌───┐»\n",
      "q_3: ┤ H ├┤3               ├┤ H ├┤ X ├┤ H ├┤ X ├┤ H ├┤ X ├┤ H ├»\n",
      "     └───┘└────────────────┘└───┘└───┘└───┘└───┘└───┘└───┘└───┘»\n",
      "c: 4/══════════════════════════════════════════════════════════»\n",
      "                                                               »\n",
      "«     ┌────────────────┐┌───┐┌───┐          ┌───┐┌───┐     ┌────────────────┐»\n",
      "«q_0: ┤0               ├┤ H ├┤ X ├───────■──┤ X ├┤ H ├─────┤0               ├»\n",
      "«     │                │├───┤├───┤       │  ├───┤├───┤     │                │»\n",
      "«q_1: ┤1               ├┤ H ├┤ X ├───────■──┤ X ├┤ H ├─────┤1               ├»\n",
      "«     │  QuantumOracle │├───┤├───┤       │  ├───┤├───┤     │  QuantumOracle │»\n",
      "«q_2: ┤2               ├┤ H ├┤ X ├───────■──┤ X ├┤ H ├─────┤2               ├»\n",
      "«     │                │├───┤├───┤┌───┐┌─┴─┐├───┤├───┤┌───┐│                │»\n",
      "«q_3: ┤3               ├┤ H ├┤ X ├┤ H ├┤ X ├┤ H ├┤ X ├┤ H ├┤3               ├»\n",
      "«     └────────────────┘└───┘└───┘└───┘└───┘└───┘└───┘└───┘└────────────────┘»\n",
      "«c: 4/═══════════════════════════════════════════════════════════════════════»\n",
      "«                                                                            »\n",
      "«     ┌───┐┌───┐          ┌───┐┌───┐     ┌─┐         \n",
      "«q_0: ┤ H ├┤ X ├───────■──┤ X ├┤ H ├─────┤M├─────────\n",
      "«     ├───┤├───┤       │  ├───┤├───┤     └╥┘┌─┐      \n",
      "«q_1: ┤ H ├┤ X ├───────■──┤ X ├┤ H ├──────╫─┤M├──────\n",
      "«     ├───┤├───┤       │  ├───┤├───┤      ║ └╥┘┌─┐   \n",
      "«q_2: ┤ H ├┤ X ├───────■──┤ X ├┤ H ├──────╫──╫─┤M├───\n",
      "«     ├───┤├───┤┌───┐┌─┴─┐├───┤├───┤┌───┐ ║  ║ └╥┘┌─┐\n",
      "«q_3: ┤ H ├┤ X ├┤ H ├┤ X ├┤ H ├┤ X ├┤ H ├─╫──╫──╫─┤M├\n",
      "«     └───┘└───┘└───┘└───┘└───┘└───┘└───┘ ║  ║  ║ └╥┘\n",
      "«c: 4/════════════════════════════════════╩══╩══╩══╩═\n",
      "«                                         0  1  2  3 \n",
      "3  out of  4  transpiled\n",
      "     ┌───┐┌────────────────┐┌───┐┌───┐          ┌───┐┌───┐     ┌─┐         \n",
      "q_0: ┤ H ├┤0               ├┤ H ├┤ X ├───────■──┤ X ├┤ H ├─────┤M├─────────\n",
      "     ├───┤│                │├───┤├───┤       │  ├───┤├───┤     └╥┘┌─┐      \n",
      "q_1: ┤ H ├┤1               ├┤ H ├┤ X ├───────■──┤ X ├┤ H ├──────╫─┤M├──────\n",
      "     ├───┤│  QuantumOracle │├───┤├───┤       │  ├───┤├───┤      ║ └╥┘┌─┐   \n",
      "q_2: ┤ H ├┤2               ├┤ H ├┤ X ├───────■──┤ X ├┤ H ├──────╫──╫─┤M├───\n",
      "     ├───┤│                │├───┤├───┤┌───┐┌─┴─┐├───┤├───┤┌───┐ ║  ║ └╥┘┌─┐\n",
      "q_3: ┤ H ├┤3               ├┤ H ├┤ X ├┤ H ├┤ X ├┤ H ├┤ X ├┤ H ├─╫──╫──╫─┤M├\n",
      "     └───┘└────────────────┘└───┘└───┘└───┘└───┘└───┘└───┘└───┘ ║  ║  ║ └╥┘\n",
      "c: 4/═══════════════════════════════════════════════════════════╩══╩══╩══╩═\n",
      "                                                                0  1  2  3 \n",
      "4  out of  4  transpiled\n"
     ]
    }
   ],
   "source": [
    "from qiskit_aer import AerSimulator\n",
    "from qiskit.transpiler.preset_passmanagers import generate_preset_pass_manager\n",
    "from qiskit_ibm_runtime import Session, SamplerV2 as Sampler, QiskitRuntimeService\n",
    "from math import sqrt,ceil,floor\n",
    "from collections import Counter\n",
    "\n",
    "backend = service.least_busy(operational=True, simulator=False, min_num_qubits=num_qubits)\n",
    "aer_sim = AerSimulator()\n",
    "pm = generate_preset_pass_manager(backend=backend, optimization_level=1)\n",
    "real_sampler = Sampler(mode=backend)\n",
    "total_oracle_calls = 0\n",
    "total_quantum_shots = 0\n",
    "max_num_layers = 1\n",
    "num_shots = sqrt(2**num_qubits)\n",
    "pub = []\n",
    "for i in range(floor(num_shots)):\n",
    "    num_layers = random.randint(1,max_num_layers)\n",
    "    qc = QuantumCircuit(num_qubits,num_clbits)\n",
    "    qc.h(qc.qubits)\n",
    "    GroverLayer(qc,num_layers)\n",
    "    qc.measure(qc.qubits,qc.clbits)\n",
    "    print(qc)\n",
    "    isa_qc = pm.run(qc)\n",
    "    print(i+1,' out of ',floor(num_shots),' transpiled')\n",
    "    pub.append(((isa_qc, None, 10)))\n",
    "    max_num_layers = ceil(5*max_num_layers/4)\n",
    "total_quantum_shots += floor(num_shots*10)"
   ]
  },
  {
   "cell_type": "code",
   "execution_count": 40,
   "metadata": {},
   "outputs": [],
   "source": [
    "job = real_sampler.run(pub,shots=None)"
   ]
  },
  {
   "cell_type": "code",
   "execution_count": 41,
   "metadata": {},
   "outputs": [
    {
     "name": "stdout",
     "output_type": "stream",
     "text": [
      "DONE\n"
     ]
    }
   ],
   "source": [
    "print(job.status())"
   ]
  },
  {
   "cell_type": "code",
   "execution_count": 42,
   "metadata": {},
   "outputs": [
    {
     "name": "stdout",
     "output_type": "stream",
     "text": [
      "[(15, 2), (2, 1), (9, 1)]\n",
      "Found matching element  15  oracle calls  1\n",
      "Winners  [8, 15, 9]\n",
      "[(9, 2), (3, 1), (0, 1)]\n",
      "Found matching element  9  oracle calls  1\n",
      "Winners  [8, 15, 9]\n",
      "[(0, 1), (8, 1), (11, 1), (15, 1)]\n",
      "Found matching element  8  oracle calls  2\n",
      "Winners  [8, 15, 9]\n",
      "[(8, 1), (13, 1), (9, 1), (10, 1)]\n",
      "Found matching element  8  oracle calls  1\n",
      "Winners  [8, 15, 9]\n",
      "[(14, 1), (1, 1), (6, 1), (0, 1)]\n",
      "No Matching result exist oracle calls  4\n",
      "Winners  [8, 15, 9]\n",
      "[(4, 2), (7, 1), (5, 1)]\n",
      "No Matching result exist oracle calls  3\n",
      "Winners  [8, 15, 9]\n",
      "[(14, 2), (15, 1), (9, 1)]\n",
      "Found matching element  15  oracle calls  2\n",
      "Winners  [8, 15, 9]\n",
      "[(3, 1), (12, 1), (5, 1), (8, 1)]\n",
      "Found matching element  8  oracle calls  4\n",
      "Winners  [8, 15, 9]\n",
      "[(14, 1), (7, 1), (0, 1), (13, 1)]\n",
      "No Matching result exist oracle calls  4\n",
      "Winners  [8, 15, 9]\n",
      "[(12, 1), (9, 1), (5, 1), (0, 1)]\n",
      "Found matching element  9  oracle calls  2\n",
      "Winners  [8, 15, 9]\n",
      "Average Oracle calls over 10 iterations  2.4  Average shots on quantum circuit  4.0\n"
     ]
    }
   ],
   "source": [
    "total_oracle_calls = 0\n",
    "result = job.result()\n",
    "for iters in range(10):\n",
    "    oracle_calls = 0\n",
    "    num_tries = 0\n",
    "    out = []\n",
    "    for j in range(len(result)):\n",
    "        out.append(result[j].data.c.array[iters][0])\n",
    "    sorted_out = Counter(out).most_common()\n",
    "    print(sorted_out)\n",
    "    size_out = len(sorted_out)\n",
    "    while num_tries < size_out:\n",
    "        output = sorted_out[num_tries][0]\n",
    "        if Classical_Oracle(output):\n",
    "            oracle_calls += 1\n",
    "            print('Found matching element ',output,' oracle calls ',oracle_calls)\n",
    "            print('Winners ',winner_list)\n",
    "            break\n",
    "        else:\n",
    "            oracle_calls += 1\n",
    "        num_tries += 1\n",
    "    if num_tries >= size_out:\n",
    "        print('No Matching result exist oracle calls ',oracle_calls)\n",
    "        print('Winners ',winner_list)\n",
    "    total_oracle_calls += oracle_calls\n",
    "print('Average Oracle calls over 10 iterations ',total_oracle_calls/10,' Average shots on quantum circuit ',total_quantum_shots/10)"
   ]
  },
  {
   "cell_type": "markdown",
   "metadata": {},
   "source": [
    "Out of the 10 test cases, 3 cases found result in 1 oracle call, 3 cases found result in 2 oracle calls, 1 case found result in 3 oracle calls, 1 case found result in 4 oracle calls, and 2 cases were not able to find results with the current number of shots on the quantum circuit. This shows that the noise in real quantum circuits is still a challenge but when it does work, it is able to obtain the result in a much lower number of oracle calls than 8 which is the classical case."
   ]
  }
 ],
 "metadata": {
  "kernelspec": {
   "display_name": "QiskitEnv",
   "language": "python",
   "name": "python3"
  },
  "language_info": {
   "codemirror_mode": {
    "name": "ipython",
    "version": 3
   },
   "file_extension": ".py",
   "mimetype": "text/x-python",
   "name": "python",
   "nbconvert_exporter": "python",
   "pygments_lexer": "ipython3",
   "version": "3.12.4"
  }
 },
 "nbformat": 4,
 "nbformat_minor": 2
}
